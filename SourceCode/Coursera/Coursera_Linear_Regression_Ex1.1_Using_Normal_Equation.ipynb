{
 "cells": [
  {
   "cell_type": "code",
   "execution_count": 4,
   "metadata": {},
   "outputs": [
    {
     "name": "stdout",
     "output_type": "stream",
     "text": [
      "Coefficient : [5.83913505 4.59304113]\n"
     ]
    },
    {
     "data": {
      "image/png": "[encoded data removed]",
      "text/plain": [
       "<Figure size 432x288 with 1 Axes>"
      ]
     },
     "metadata": {
      "needs_background": "light"
     },
     "output_type": "display_data"
    }
   ],
   "source": [
    "import numpy as np\n",
    "import matplotlib.pyplot as plt\n",
    "import pandas as pd\n",
    "from sklearn.preprocessing import StandardScaler\n",
    "\n",
    "#Function to compute cost function\n",
    "#Using vectorization to get a better performance instead of for loop\n",
    "def compute_cost(X, y, theta):\n",
    "    m = X.shape[0]\n",
    "    return 1/(2*m) * np.transpose(X@theta - y) @ (X@theta - y)\n",
    "\n",
    "\n",
    "#main function\n",
    "if __name__=='__main__':\n",
    "    data = pd.read_csv('C:/CNTT/DATA/ex1data1.txt', names=['features', 'value'])\n",
    "    #Features and value\n",
    "    X = np.array(data.loc[:, 'features']).reshape(-1, 1)\n",
    "    y = np.array(data.loc[:, 'value'])\n",
    "    #Features scaling using standardization, you can implement for youself, it's pretty simple\n",
    "    #\n",
    "    scaler = StandardScaler()\n",
    "    X_scaled = scaler.fit_transform(X)\n",
    "    #Add column of X0 feature\n",
    "    X0 = np.ones(X.shape[0]).reshape(-1, 1)\n",
    "    X_scaled = np.column_stack((X0, X_scaled))\n",
    "    #Compute coefficient using normal equation\n",
    "    theta = np.linalg.inv(X_scaled.T@X_scaled)@X_scaled.T@y\n",
    "    print('Coefficient :',theta)\n",
    "    predict_y = X_scaled@theta.T\n",
    "    #plot data\n",
    "    plt.scatter(X, y, label='Training example')\n",
    "    plt.plot(X, predict_y, label='Linear regression', color='red')\n",
    "    plt.legend()\n",
    "    plt.show()"
   ]
  },
  {
   "cell_type": "code",
   "execution_count": null,
   "metadata": {},
   "outputs": [],
   "source": []
  }
 ],
 "metadata": {
  "kernelspec": {
   "display_name": "Python 3",
   "language": "python",
   "name": "python3"
  },
  "language_info": {
   "codemirror_mode": {
    "name": "ipython",
    "version": 3
   },
   "file_extension": ".py",
   "mimetype": "text/x-python",
   "name": "python",
   "nbconvert_exporter": "python",
   "pygments_lexer": "ipython3",
   "version": "3.8.3"
  }
 },
 "nbformat": 4,
 "nbformat_minor": 4
}
