{
 "cells": [
  {
   "cell_type": "code",
   "execution_count": 122,
   "metadata": {},
   "outputs": [
    {
     "name": "stdout",
     "output_type": "stream",
     "text": [
      "[-0.00508358  0.11888095  0.56748771]\n",
      "input data =[1 0 0], truth value =0, predict value =0\n",
      "input data =[1 0 1], truth value =1, predict value =1\n",
      "input data =[1 1 0], truth value =1, predict value =1\n",
      "input data =[1 1 1], truth value =1, predict value =1\n"
     ]
    }
   ],
   "source": [
    "import numpy as np\n",
    "#Using step function as activation function\n",
    "\n",
    "def step_function(x):\n",
    "    return 1 if x > 0 else 0\n",
    "\n",
    "#Function to find the weight matrix\n",
    "\n",
    "def fit(X, y, learning_rate, epochs):\n",
    "    #Number of training example\n",
    "    m = X.shape[0]\n",
    "    #Initial weighted matrix with random value sampled from a Gaussian distribution with zero mean and 1 variance\n",
    "    #You can also reshape W to make it become column vector\n",
    "    #But I prefer using W as row vector, two approach has the same result but second approach more convenient\n",
    "    W = np.random.rand(X.shape[1])/np.sqrt(X.shape[1]-1)\n",
    "    #Learning epochs\n",
    "    for iter in range(epochs):\n",
    "        for i in range(m):\n",
    "            y_hat = step_function(X[i] @ W)\n",
    "            error = y_hat - y[i]\n",
    "            #Update weight matrix\n",
    "            W += -learning_rate*error*X[i]\n",
    "    return W\n",
    "\n",
    "if __name__=='__main__':\n",
    "    #Input with Bias unit as the first column of array\n",
    "    X = np.array([[1, 0, 0], [1, 0, 1], [1, 1, 0], [1, 1, 1]])\n",
    "    y = np.array([0, 1, 1, 1])\n",
    "    #Learning rate is 0.01 and epochs = 100\n",
    "    W = fit(X, y, 0.01, 100)\n",
    "    print(W)\n",
    "    y_predict = X @ W\n",
    "    for i in range(X.shape[0]):\n",
    "        print('input data ={}, truth value ={}, predict value ={}'.format(X[i], y[i], step_function(y_predict[i])))"
   ]
  },
  {
   "cell_type": "code",
   "execution_count": null,
   "metadata": {},
   "outputs": [],
   "source": []
  },
  {
   "cell_type": "code",
   "execution_count": null,
   "metadata": {},
   "outputs": [],
   "source": []
  }
 ],
 "metadata": {
  "kernelspec": {
   "display_name": "Python 3",
   "language": "python",
   "name": "python3"
  },
  "language_info": {
   "codemirror_mode": {
    "name": "ipython",
    "version": 3
   },
   "file_extension": ".py",
   "mimetype": "text/x-python",
   "name": "python",
   "nbconvert_exporter": "python",
   "pygments_lexer": "ipython3",
   "version": "3.8.3"
  }
 },
 "nbformat": 4,
 "nbformat_minor": 4
}
