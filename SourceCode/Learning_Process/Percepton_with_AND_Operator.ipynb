{
 "cells": [
  {
   "cell_type": "code",
   "execution_count": 5,
   "metadata": {},
   "outputs": [
    {
     "name": "stdout",
     "output_type": "stream",
     "text": [
      "[-0.83958332  0.73973404  0.63470555]\n",
      "Input data = [1 0 0], truth value=0, predict value=0\n",
      "Input data = [1 0 1], truth value=0, predict value=0\n",
      "Input data = [1 1 0], truth value=0, predict value=0\n",
      "Input data = [1 1 1], truth value=1, predict value=1\n"
     ]
    }
   ],
   "source": [
    "import numpy as np\n",
    "\n",
    "def step_function(x):\n",
    "    return 1 if x > 0 else 0\n",
    "\n",
    "def fit(X, y, learning_rate, epochs):\n",
    "    #Number of training example\n",
    "    m = X.shape[0]\n",
    "    #Initial weight matrix with random value from a Gaussian distribution\n",
    "    W = np.random.randn(X.shape[1])/(np.sqrt(X.shape[1]-1))\n",
    "    #Learning process\n",
    "    for iter in range(epochs):\n",
    "        for i in range(m):\n",
    "            y_hat = step_function(X[i] @ W)\n",
    "            error = y_hat - y[i]\n",
    "            if error != 0:\n",
    "                W = W - learning_rate*error*X[i]\n",
    "    return W\n",
    "\n",
    "if __name__=='__main__':\n",
    "    X = np.array([[1, 0, 0], [1, 0, 1], [1, 1, 0], [1, 1, 1]])\n",
    "    y = np.array([0, 0, 0, 1])\n",
    "    W = fit(X, y, 0.1, 100)\n",
    "    print(W)\n",
    "    predict_y = X@W\n",
    "    for i in range(X.shape[0]):\n",
    "        print('Input data = {}, truth value={}, predict value={}'.format(X[i], y[i], step_function(predict_y[i])))"
   ]
  },
  {
   "cell_type": "code",
   "execution_count": null,
   "metadata": {},
   "outputs": [],
   "source": []
  }
 ],
 "metadata": {
  "kernelspec": {
   "display_name": "Python 3",
   "language": "python",
   "name": "python3"
  },
  "language_info": {
   "codemirror_mode": {
    "name": "ipython",
    "version": 3
   },
   "file_extension": ".py",
   "mimetype": "text/x-python",
   "name": "python",
   "nbconvert_exporter": "python",
   "pygments_lexer": "ipython3",
   "version": "3.8.3"
  }
 },
 "nbformat": 4,
 "nbformat_minor": 4
}
